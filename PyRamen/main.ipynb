{
 "cells": [
  {
   "cell_type": "code",
   "execution_count": 79,
   "id": "84d97487-cdcb-4479-9e5d-fef4c26098b4",
   "metadata": {},
   "outputs": [],
   "source": [
    "# Import the necessary libraries for reading csv files\n",
    "\n",
    "import csv\n",
    "\n",
    "from pathlib import Path"
   ]
  },
  {
   "cell_type": "code",
   "execution_count": 80,
   "id": "6230e6c2-e5ac-48a7-a8df-ecdab8e8bd27",
   "metadata": {},
   "outputs": [],
   "source": [
    "# Created filepaths for menu list and sales list\n",
    "\n",
    "menu_df = Path(\"Resources/menu_data.csv\")\n",
    "\n",
    "sales_df = Path(\"Resources/sales_data.csv\")"
   ]
  },
  {
   "cell_type": "code",
   "execution_count": 81,
   "id": "caa5cae5-7a57-431b-bee3-5ba7bfdd4073",
   "metadata": {},
   "outputs": [],
   "source": [
    "# Created required variables.\n",
    "\n",
    "menu = []\n",
    "\n",
    "sales = []\n",
    "\n",
    "report = {}\n",
    "\n",
    "row_count = 0"
   ]
  },
  {
   "cell_type": "code",
   "execution_count": 82,
   "id": "5f5de241-13a2-4bd3-a4eb-513393a74055",
   "metadata": {},
   "outputs": [],
   "source": [
    "# Initialized and read menu csv\n",
    "\n",
    "with open(menu_df, 'r') as csvfile:\n",
    "    \n",
    "    csv_reader = csv.reader(csvfile, delimiter = ',')\n",
    "    header = next(csv_reader)\n",
    "    \n",
    "    for row in csv_reader:\n",
    "        menu.append(row)"
   ]
  },
  {
   "cell_type": "code",
   "execution_count": 83,
   "id": "1208ba3d-f1a6-4046-bfef-76b5a0eae505",
   "metadata": {},
   "outputs": [],
   "source": [
    "# Initialized and read sales csv\n",
    "\n",
    "with open(sales_df, 'r') as csvfile:\n",
    "    \n",
    "    csv_reader = csv.reader(csvfile, delimiter = ',')\n",
    "    header = next(csv_reader)\n",
    "    \n",
    "    for row in csv_reader:\n",
    "        sales.append(row)"
   ]
  },
  {
   "cell_type": "code",
   "execution_count": 84,
   "id": "17f362b5-0a2f-40a0-bb45-629bf59b9b27",
   "metadata": {},
   "outputs": [],
   "source": [
    "# Created a dictionary for each new menu item\n",
    "\n",
    "for sales_row in sales:\n",
    "    \n",
    "    sales_item = sales_row[4]\n",
    "    \n",
    "    quantity = sales_row[3]\n",
    "    \n",
    "    if sales_item not in report:\n",
    "        \n",
    "        report[sales_item] = {\"01-count\": 0, \"02-revenue\": 0, \"03-costs\": 0, \"04-profit\": 0}\n",
    "        \n",
    "    else:\n",
    "        \n",
    "        continue"
   ]
  },
  {
   "cell_type": "code",
   "execution_count": 85,
   "id": "7bad1c20-590c-44d7-bd46-93b36ea161b8",
   "metadata": {},
   "outputs": [],
   "source": [
    "# Initialized quantities from sales to report\n",
    "\n",
    "for sales_row in sales:\n",
    "    \n",
    "    sales_item = sales_row[4]\n",
    "    \n",
    "    quantity = sales_row[3]\n",
    "    \n",
    "    if sales_item in report:\n",
    "        \n",
    "        report[sales_item][\"01-count\"] += int(quantity)\n"
   ]
  },
  {
   "cell_type": "code",
   "execution_count": 86,
   "id": "818bb589-79e1-4423-b8a9-889473d1a798",
   "metadata": {},
   "outputs": [],
   "source": [
    "# Initialized price and cost from menu and calculated revenue and costs.\n",
    "\n",
    "for sales_row in sales:\n",
    "    \n",
    "    sales_item = sales_row[4]\n",
    "    \n",
    "    quantity = sales_row[3]\n",
    "    \n",
    "    for menu_row in menu:\n",
    "        \n",
    "        menu_item = menu_row[0]\n",
    "        \n",
    "        menu_price = menu_row[3]\n",
    "        \n",
    "        menu_cost = menu_row[4]\n",
    "        \n",
    "        if sales_item == menu_item:\n",
    "            \n",
    "            report[menu_item][\"02-revenue\"] += (int(menu_price) * int(quantity))\n",
    "            \n",
    "            report[menu_item][\"03-costs\"] += (int(menu_cost) * int(quantity))\n",
    "            \n",
    "        elif sales_item != menu_item:\n",
    "            \n",
    "            continue\n",
    "            "
   ]
  },
  {
   "cell_type": "code",
   "execution_count": 87,
   "id": "23a12a64-c9c1-4595-8bc9-850ec02e8980",
   "metadata": {},
   "outputs": [],
   "source": [
    "# Calculated profit using revenue and costs\n",
    "\n",
    "for item, valuedict in report.items():\n",
    "     \n",
    "    for key in valuedict:\n",
    "        \n",
    "        cogs = report[item][\"03-costs\"]\n",
    "        \n",
    "        revenue = report[item][\"02-revenue\"]\n",
    "        \n",
    "        if key == \"04-profit\":\n",
    "            \n",
    "            report[item][key] = revenue - cogs\n",
    "        \n",
    "        else:\n",
    "            continue "
   ]
  },
  {
   "cell_type": "code",
   "execution_count": 88,
   "id": "169c933c-da2b-472e-a8a3-940a3b4ca9b4",
   "metadata": {},
   "outputs": [],
   "source": [
    "# Initialized output file\n",
    "\n",
    "output_path = Path(\"PyRamen.txt\")\n",
    "\n",
    "with open(output_path, 'w') as file:\n",
    "    \n",
    "    file.write(\"PyRamen Financial Report.\\n\")\n",
    "    \n",
    "    for key in report:\n",
    "        file.write(f\"{key} {report[key]} \\n\")"
   ]
  }
 ],
 "metadata": {
  "kernelspec": {
   "display_name": "Python 3",
   "language": "python",
   "name": "python3"
  },
  "language_info": {
   "codemirror_mode": {
    "name": "ipython",
    "version": 3
   },
   "file_extension": ".py",
   "mimetype": "text/x-python",
   "name": "python",
   "nbconvert_exporter": "python",
   "pygments_lexer": "ipython3",
   "version": "3.8.8"
  }
 },
 "nbformat": 4,
 "nbformat_minor": 5
}
